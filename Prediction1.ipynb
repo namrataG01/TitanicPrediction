{
  "nbformat": 4,
  "nbformat_minor": 0,
  "metadata": {
    "colab": {
      "provenance": [],
      "authorship_tag": "ABX9TyMz1ufY+1/1Qcsrins6/2TY"
    },
    "kernelspec": {
      "name": "python3",
      "display_name": "Python 3"
    },
    "language_info": {
      "name": "python"
    }
  },
  "cells": [
    {
      "cell_type": "code",
      "execution_count": 1,
      "metadata": {
        "id": "VpTuKQmvcI58"
      },
      "outputs": [],
      "source": []
    },
    {
      "cell_type": "markdown",
      "source": [
        "Test project\n"
      ],
      "metadata": {
        "id": "KL2JKtnCcQhp"
      }
    },
    {
      "cell_type": "code",
      "source": [],
      "metadata": {
        "id": "i8qG5JLhcTBR"
      },
      "execution_count": null,
      "outputs": []
    }
  ]
}